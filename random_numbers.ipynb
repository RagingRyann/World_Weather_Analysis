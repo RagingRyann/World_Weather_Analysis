{
 "cells": [
  {
   "cell_type": "code",
   "execution_count": 1,
   "id": "f01434f4",
   "metadata": {},
   "outputs": [],
   "source": [
    "# Import the random module.\n",
    "import random"
   ]
  },
  {
   "cell_type": "code",
   "execution_count": 2,
   "id": "b6ef78c5",
   "metadata": {},
   "outputs": [
    {
     "data": {
      "text/plain": [
       "28"
      ]
     },
     "execution_count": 2,
     "metadata": {},
     "output_type": "execute_result"
    }
   ],
   "source": [
    "random.randint(-90, 90)"
   ]
  },
  {
   "cell_type": "code",
   "execution_count": 3,
   "id": "c281dd4a",
   "metadata": {},
   "outputs": [
    {
     "data": {
      "text/plain": [
       "0.6450557596435812"
      ]
     },
     "execution_count": 3,
     "metadata": {},
     "output_type": "execute_result"
    }
   ],
   "source": [
    "random.random()"
   ]
  },
  {
   "cell_type": "code",
   "execution_count": 4,
   "id": "db538797",
   "metadata": {},
   "outputs": [
    {
     "data": {
      "text/plain": [
       "63.11991431667439"
      ]
     },
     "execution_count": 4,
     "metadata": {},
     "output_type": "execute_result"
    }
   ],
   "source": [
    "random_number = random.randint(-90, 89) + random.random()\n",
    "random_number"
   ]
  },
  {
   "cell_type": "code",
   "execution_count": 6,
   "id": "2dadfc17",
   "metadata": {},
   "outputs": [
    {
     "name": "stdout",
     "output_type": "stream",
     "text": [
      "[-4.833842755622292, 12.189266234939014, -16.832300875253086, 75.86094282761978, -25.46348462886095, -50.31620600653324, -11.327894578669609, 49.54298411446068, 6.132085165144283, -76.99793112513136]\n"
     ]
    }
   ],
   "source": [
    "# Small sample of what it might take to generate ten random floating-point decimal latitudes.\n",
    "x = 1\n",
    "latitudes = []\n",
    "while x < 11:\n",
    "    random_lat = random.randint(-90, 89) + random.random()\n",
    "    latitudes.append(random_lat)\n",
    "    x += 1\n",
    "    \n",
    "print(latitudes)"
   ]
  },
  {
   "cell_type": "code",
   "execution_count": 7,
   "id": "61ac96de",
   "metadata": {},
   "outputs": [
    {
     "data": {
      "text/plain": [
       "-4"
      ]
     },
     "execution_count": 7,
     "metadata": {},
     "output_type": "execute_result"
    }
   ],
   "source": [
    "random.randrange(-90, 90, step=1)"
   ]
  },
  {
   "cell_type": "code",
   "execution_count": 8,
   "id": "a4c7c8f1",
   "metadata": {},
   "outputs": [
    {
     "data": {
      "text/plain": [
       "-66"
      ]
     },
     "execution_count": 8,
     "metadata": {},
     "output_type": "execute_result"
    }
   ],
   "source": [
    "random.randrange(-90, 90, step=3)"
   ]
  },
  {
   "cell_type": "code",
   "execution_count": 9,
   "id": "da32b40e",
   "metadata": {},
   "outputs": [
    {
     "data": {
      "text/plain": [
       "85.35945369426653"
      ]
     },
     "execution_count": 9,
     "metadata": {},
     "output_type": "execute_result"
    }
   ],
   "source": [
    "random.uniform(-90, 90)"
   ]
  },
  {
   "cell_type": "code",
   "execution_count": 10,
   "id": "90a04f8e",
   "metadata": {},
   "outputs": [],
   "source": [
    "# Import the NumPy module.\n",
    "import numpy as np"
   ]
  },
  {
   "cell_type": "code",
   "execution_count": 12,
   "id": "99bc181c",
   "metadata": {},
   "outputs": [
    {
     "data": {
      "text/plain": [
       "-43.15775008682155"
      ]
     },
     "execution_count": 12,
     "metadata": {},
     "output_type": "execute_result"
    }
   ],
   "source": [
    "# Adding zeros past decimal point is optional.\n",
    "# Could also write:  np.random.uniform(low=-90, high=90)\n",
    "np.random.uniform(-90.000, 90.000)"
   ]
  },
  {
   "cell_type": "code",
   "execution_count": 13,
   "id": "ae7d05fb",
   "metadata": {},
   "outputs": [
    {
     "data": {
      "text/plain": [
       "array([ 34.00192634,  10.99506378,  69.87144755,  59.54591119,\n",
       "        47.1618622 ,  75.7416738 ,  83.1195467 ,  -3.94877509,\n",
       "       -33.00059767, -58.83545839, -51.83056399,  84.29331051,\n",
       "        53.25405374,  46.62417239, -33.22099588,  75.83954576,\n",
       "       -34.097664  , -72.7259096 , -26.00872176, -71.53621741,\n",
       "        49.13364982, -72.88584957, -44.85919031,   2.02448995,\n",
       "        44.80578824,  16.86752302, -52.52859624,  79.88849694,\n",
       "        -2.6623046 ,  72.50111875, -55.80263966, -43.63419115,\n",
       "        17.38905055,  69.87955813,  41.09488917, -89.9057272 ,\n",
       "        -8.25232371,   1.3603857 ,  -5.15139442, -48.29579336,\n",
       "       -52.49476023, -14.80865667, -78.31863257,  40.55530054,\n",
       "         1.44510496, -86.24260282,  62.3147195 ,  72.60404071,\n",
       "       -54.60056016,  48.16086855])"
      ]
     },
     "execution_count": 13,
     "metadata": {},
     "output_type": "execute_result"
    }
   ],
   "source": [
    "np.random.uniform(-90.000, 90.000, size=50)"
   ]
  },
  {
   "cell_type": "code",
   "execution_count": 14,
   "id": "c527a036",
   "metadata": {},
   "outputs": [],
   "source": [
    "# Import timeit.\n",
    "import timeit"
   ]
  },
  {
   "cell_type": "code",
   "execution_count": 16,
   "id": "ae590ea6",
   "metadata": {},
   "outputs": [
    {
     "name": "stdout",
     "output_type": "stream",
     "text": [
      "54.1 µs ± 962 ns per loop (mean ± std. dev. of 7 runs, 10000 loops each)\n"
     ]
    }
   ],
   "source": [
    "# Output is amount of time it took to run the code for 7 runs and 1,000 loops per run. \n",
    "# Amount of time to run depends upon the processing speed and RAM of computer.\n",
    "%timeit np.random.uniform(-90.000, 90.000, size=1500)"
   ]
  },
  {
   "cell_type": "code",
   "execution_count": 17,
   "id": "1f52b89b",
   "metadata": {},
   "outputs": [
    {
     "name": "stdout",
     "output_type": "stream",
     "text": [
      "6.61 ms ± 97.7 µs per loop (mean ± std. dev. of 7 runs, 100 loops each)\n"
     ]
    }
   ],
   "source": [
    "def latitudes(size):\n",
    "    latitudes = []\n",
    "    x = 0\n",
    "    while x < (size):\n",
    "        random_lat = random.randint(-90, 90) + random.random()\n",
    "        latitudes.append(random_lat)\n",
    "        x += 1\n",
    "    return latitudes\n",
    "# Call the function with 1500.\n",
    "%timeit latitudes(1500)"
   ]
  },
  {
   "cell_type": "code",
   "execution_count": 32,
   "id": "c1c31d0c",
   "metadata": {},
   "outputs": [],
   "source": [
    "# Tutoring lesson on 01/30/2022\n",
    "def add(a,b, z=10):\n",
    "    c = a + b + z\n",
    "    print(c)"
   ]
  },
  {
   "cell_type": "code",
   "execution_count": 13,
   "id": "a55cb028",
   "metadata": {},
   "outputs": [
    {
     "name": "stdout",
     "output_type": "stream",
     "text": [
      "16\n"
     ]
    }
   ],
   "source": [
    "add(2,4)"
   ]
  },
  {
   "cell_type": "code",
   "execution_count": 14,
   "id": "77955db8",
   "metadata": {},
   "outputs": [
    {
     "name": "stdout",
     "output_type": "stream",
     "text": [
      "40\n"
     ]
    }
   ],
   "source": [
    "a=10\n",
    "b=20\n",
    "add(a,b)"
   ]
  },
  {
   "cell_type": "code",
   "execution_count": 15,
   "id": "bdddbc7e",
   "metadata": {},
   "outputs": [
    {
     "name": "stdout",
     "output_type": "stream",
     "text": [
      "310\n"
     ]
    }
   ],
   "source": [
    "truck = 100\n",
    "car = 200\n",
    "add(truck,car)"
   ]
  },
  {
   "cell_type": "code",
   "execution_count": 17,
   "id": "49243d1a",
   "metadata": {},
   "outputs": [
    {
     "name": "stdout",
     "output_type": "stream",
     "text": [
      "60\n"
     ]
    }
   ],
   "source": [
    "ed = add(a,b, z = 30)"
   ]
  },
  {
   "cell_type": "code",
   "execution_count": 9,
   "id": "4f078d5a",
   "metadata": {},
   "outputs": [],
   "source": [
    "def sub(e,f):\n",
    "    d = e - f\n",
    "    print(d)"
   ]
  },
  {
   "cell_type": "code",
   "execution_count": 10,
   "id": "f7de03a0",
   "metadata": {},
   "outputs": [
    {
     "name": "stdout",
     "output_type": "stream",
     "text": [
      "-100\n"
     ]
    }
   ],
   "source": [
    "sub(truck, car)"
   ]
  },
  {
   "cell_type": "code",
   "execution_count": 11,
   "id": "421c8fa1",
   "metadata": {},
   "outputs": [
    {
     "name": "stdout",
     "output_type": "stream",
     "text": [
      "100\n"
     ]
    }
   ],
   "source": [
    "sub(car,truck)"
   ]
  },
  {
   "cell_type": "code",
   "execution_count": 31,
   "id": "cc90274a",
   "metadata": {},
   "outputs": [
    {
     "name": "stdout",
     "output_type": "stream",
     "text": [
      "Ryann\n",
      "Elora\n",
      "Wyn\n",
      "Melinda\n",
      "Thane\n",
      "Savoy\n",
      "Athena\n",
      "Barnaby\n",
      "Boots\n",
      "Chloe\n",
      "Ed\n",
      "Elora\n",
      "Wyn\n",
      "Melinda\n",
      "Thane\n",
      "Savoy\n",
      "Athena\n",
      "Barnaby\n",
      "Boots\n",
      "Chloe\n",
      "Bob\n",
      "Elora\n",
      "Wyn\n",
      "Melinda\n",
      "Thane\n",
      "Savoy\n",
      "Athena\n",
      "Barnaby\n",
      "Boots\n",
      "Chloe\n",
      "Carl\n",
      "Elora\n",
      "Wyn\n",
      "Melinda\n",
      "Thane\n",
      "Savoy\n",
      "Athena\n",
      "Barnaby\n",
      "Boots\n",
      "Chloe\n",
      "4\n",
      "10\n"
     ]
    }
   ],
   "source": [
    "# 10 baskets of laundry. Python starts counting at 0. \n",
    "# print(names) = number of items in list, and prints number of times we program it to\n",
    "#print(names[x]) = prints last value because it was last ran and still in computer memory.\n",
    "\n",
    "names1 = [['Ryann', 'Elora', 'Wyn', 'Melinda', 'Thane', 'Savoy', 'Athena', 'Barnaby', 'Boots', 'Chloe'],\n",
    " ['Ed', 'Elora', 'Wyn', 'Melinda', 'Thane', 'Savoy', 'Athena', 'Barnaby', 'Boots', 'Chloe'],\n",
    "['Bob', 'Elora', 'Wyn', 'Melinda', 'Thane', 'Savoy', 'Athena', 'Barnaby', 'Boots', 'Chloe'],\n",
    " ['Carl', 'Elora', 'Wyn', 'Melinda', 'Thane', 'Savoy', 'Athena', 'Barnaby', 'Boots', 'Chloe']]\n",
    "\n",
    "# for x in range=10\n",
    "for name in names1:\n",
    "    for item in name:\n",
    "        print(item)\n",
    "        \n",
    "print(len(names1))\n",
    "print(len(name))"
   ]
  },
  {
   "cell_type": "code",
   "execution_count": null,
   "id": "36dc1962",
   "metadata": {},
   "outputs": [],
   "source": []
  }
 ],
 "metadata": {
  "kernelspec": {
   "display_name": "PythonData",
   "language": "python",
   "name": "pythondata"
  },
  "language_info": {
   "codemirror_mode": {
    "name": "ipython",
    "version": 3
   },
   "file_extension": ".py",
   "mimetype": "text/x-python",
   "name": "python",
   "nbconvert_exporter": "python",
   "pygments_lexer": "ipython3",
   "version": "3.7.11"
  }
 },
 "nbformat": 4,
 "nbformat_minor": 5
}
